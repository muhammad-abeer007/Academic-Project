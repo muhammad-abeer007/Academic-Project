{
 "cells": [
  {
   "cell_type": "code",
   "execution_count": 1,
   "id": "a6abde20",
   "metadata": {},
   "outputs": [],
   "source": [
    "import pandas as pd\n",
    "import numpy as np"
   ]
  },
  {
   "cell_type": "code",
   "execution_count": 3,
   "id": "3ba12a59",
   "metadata": {},
   "outputs": [],
   "source": [
    "inputs = pd.read_csv('inputs_school.csv')"
   ]
  },
  {
   "cell_type": "code",
   "execution_count": 4,
   "id": "8f009cc7",
   "metadata": {},
   "outputs": [],
   "source": [
    "targets = pd.read_csv('targets_school.csv')"
   ]
  },
  {
   "cell_type": "markdown",
   "id": "3001a40b",
   "metadata": {},
   "source": [
    "# Shuffling The Datset\n"
   ]
  },
  {
   "cell_type": "code",
   "execution_count": 5,
   "id": "b1c4350a",
   "metadata": {},
   "outputs": [],
   "source": [
    "shuffled_indices = np.arange(inputs.shape[0])\n",
    "np.random.shuffle(shuffled_indices)\n",
    "shuffled_inputs = inputs.loc[shuffled_indices]\n",
    "shuffled_targets = targets.loc[shuffled_indices]"
   ]
  },
  {
   "cell_type": "code",
   "execution_count": 6,
   "id": "f0d65200",
   "metadata": {},
   "outputs": [],
   "source": [
    "samples_count = shuffled_inputs.shape[0]"
   ]
  },
  {
   "cell_type": "markdown",
   "id": "97139d1a",
   "metadata": {},
   "source": [
    "# Making Train,Test & Validation dataset"
   ]
  },
  {
   "cell_type": "code",
   "execution_count": 7,
   "id": "04ee0e49",
   "metadata": {},
   "outputs": [],
   "source": [
    "train_sample_count = int(.8*samples_count)\n",
    "validation_sample_count = int(.1*samples_count)\n",
    "test_sample_count = samples_count-train_sample_count - validation_sample_count"
   ]
  },
  {
   "cell_type": "code",
   "execution_count": 8,
   "id": "d4ee8a06",
   "metadata": {},
   "outputs": [],
   "source": [
    "train_inputs = shuffled_inputs[:train_sample_count]\n",
    "train_targets = shuffled_targets[:train_sample_count]"
   ]
  },
  {
   "cell_type": "code",
   "execution_count": 9,
   "id": "597b3c3f",
   "metadata": {},
   "outputs": [],
   "source": [
    "validation_inputs = shuffled_inputs[:validation_sample_count]\n",
    "validation_targets = shuffled_targets[:validation_sample_count]"
   ]
  },
  {
   "cell_type": "code",
   "execution_count": 10,
   "id": "f97a8d15",
   "metadata": {},
   "outputs": [],
   "source": [
    "test_inputs = shuffled_inputs[:test_sample_count]\n",
    "test_targets = shuffled_targets[:test_sample_count]"
   ]
  },
  {
   "cell_type": "code",
   "execution_count": 11,
   "id": "b086789f",
   "metadata": {},
   "outputs": [
    {
     "name": "stdout",
     "output_type": "stream",
     "text": [
      "school_attend    139\n",
      "dtype: int64 360 school_attend    0.386111\n",
      "dtype: float64\n",
      "school_attend    20\n",
      "dtype: int64 45 school_attend    0.444444\n",
      "dtype: float64\n",
      "school_attend    20\n",
      "dtype: int64 45 school_attend    0.444444\n",
      "dtype: float64\n"
     ]
    }
   ],
   "source": [
    "print(np.sum(train_targets),train_sample_count,np.sum(train_targets)/train_sample_count )\n",
    "print(np.sum(test_targets),test_sample_count,np.sum(test_targets)/test_sample_count )\n",
    "print(np.sum(validation_targets),validation_sample_count,np.sum(validation_targets)/validation_sample_count )"
   ]
  },
  {
   "cell_type": "code",
   "execution_count": 12,
   "id": "dbd9369b",
   "metadata": {},
   "outputs": [],
   "source": [
    "#np.savez('train_school', inputs = train_inputs, targets =train_targets)\n",
    "#np.savez('validation_school', inputs = validation_inputs, targets =validation_targets)\n",
    "#np.savez('test_school', inputs = test_inputs, targets =test_targets)"
   ]
  },
  {
   "cell_type": "code",
   "execution_count": null,
   "id": "59a117b6",
   "metadata": {},
   "outputs": [],
   "source": []
  }
 ],
 "metadata": {
  "kernelspec": {
   "display_name": "Python 3 (ipykernel)",
   "language": "python",
   "name": "python3"
  },
  "language_info": {
   "codemirror_mode": {
    "name": "ipython",
    "version": 3
   },
   "file_extension": ".py",
   "mimetype": "text/x-python",
   "name": "python",
   "nbconvert_exporter": "python",
   "pygments_lexer": "ipython3",
   "version": "3.8.17"
  }
 },
 "nbformat": 4,
 "nbformat_minor": 5
}
