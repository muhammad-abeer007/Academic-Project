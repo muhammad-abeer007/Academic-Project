{
 "cells": [
  {
   "cell_type": "code",
   "execution_count": 1,
   "id": "a29dc71b",
   "metadata": {},
   "outputs": [],
   "source": [
    "import tensorflow as tf\n",
    "import numpy as np"
   ]
  },
  {
   "cell_type": "markdown",
   "id": "47e40fba",
   "metadata": {},
   "source": [
    "# Loading Test, Train & Validation datasets"
   ]
  },
  {
   "cell_type": "code",
   "execution_count": 2,
   "id": "257aa5cb",
   "metadata": {},
   "outputs": [],
   "source": [
    "npz = np.load('train_school.npz')\n",
    "train_inputs = npz['inputs'].astype(float)\n",
    "train_targets = npz['targets'].astype(int)\n",
    "npz = np.load('validation_school.npz')\n",
    "validation_inputs, validation_targets = npz['inputs'].astype(float), npz['targets'].astype(int)\n",
    "\n",
    "npz = np.load('test_school.npz')\n",
    "test_inputs, test_targets = npz['inputs'].astype(float), npz['targets'].astype(int)"
   ]
  },
  {
   "cell_type": "markdown",
   "id": "e24f6d92",
   "metadata": {},
   "source": [
    "# Fitting Deep Neural Network"
   ]
  },
  {
   "cell_type": "code",
   "execution_count": 3,
   "id": "641df34b",
   "metadata": {},
   "outputs": [
    {
     "name": "stdout",
     "output_type": "stream",
     "text": [
      "Epoch 1/150\n",
      "9/9 - 7s - loss: 0.6913 - accuracy: 0.5306 - val_loss: 0.6948 - val_accuracy: 0.5556 - 7s/epoch - 752ms/step\n",
      "Epoch 2/150\n",
      "9/9 - 0s - loss: 0.6576 - accuracy: 0.6139 - val_loss: 0.6979 - val_accuracy: 0.5556 - 77ms/epoch - 9ms/step\n",
      "Epoch 3/150\n",
      "9/9 - 0s - loss: 0.6385 - accuracy: 0.6306 - val_loss: 0.6810 - val_accuracy: 0.5556 - 68ms/epoch - 8ms/step\n",
      "Epoch 4/150\n",
      "9/9 - 0s - loss: 0.6247 - accuracy: 0.6528 - val_loss: 0.6649 - val_accuracy: 0.6444 - 65ms/epoch - 7ms/step\n",
      "Epoch 5/150\n",
      "9/9 - 0s - loss: 0.6129 - accuracy: 0.6722 - val_loss: 0.6552 - val_accuracy: 0.6667 - 83ms/epoch - 9ms/step\n",
      "Epoch 6/150\n",
      "9/9 - 0s - loss: 0.6005 - accuracy: 0.6806 - val_loss: 0.6447 - val_accuracy: 0.6889 - 47ms/epoch - 5ms/step\n",
      "Epoch 7/150\n",
      "9/9 - 0s - loss: 0.5942 - accuracy: 0.6722 - val_loss: 0.6432 - val_accuracy: 0.6889 - 54ms/epoch - 6ms/step\n",
      "Epoch 8/150\n",
      "9/9 - 0s - loss: 0.5891 - accuracy: 0.6750 - val_loss: 0.6344 - val_accuracy: 0.6889 - 47ms/epoch - 5ms/step\n",
      "Epoch 9/150\n",
      "9/9 - 0s - loss: 0.5857 - accuracy: 0.6778 - val_loss: 0.6344 - val_accuracy: 0.6889 - 47ms/epoch - 5ms/step\n",
      "Epoch 10/150\n",
      "9/9 - 0s - loss: 0.5824 - accuracy: 0.6806 - val_loss: 0.6274 - val_accuracy: 0.7111 - 62ms/epoch - 7ms/step\n",
      "Epoch 11/150\n",
      "9/9 - 0s - loss: 0.5810 - accuracy: 0.6917 - val_loss: 0.6291 - val_accuracy: 0.7111 - 47ms/epoch - 5ms/step\n",
      "Epoch 12/150\n",
      "9/9 - 0s - loss: 0.5781 - accuracy: 0.6944 - val_loss: 0.6261 - val_accuracy: 0.7111 - 51ms/epoch - 6ms/step\n",
      "Epoch 13/150\n",
      "9/9 - 0s - loss: 0.5768 - accuracy: 0.6889 - val_loss: 0.6210 - val_accuracy: 0.7111 - 73ms/epoch - 8ms/step\n",
      "Epoch 14/150\n",
      "9/9 - 0s - loss: 0.5742 - accuracy: 0.6944 - val_loss: 0.6135 - val_accuracy: 0.7333 - 62ms/epoch - 7ms/step\n",
      "Epoch 15/150\n",
      "9/9 - 0s - loss: 0.5735 - accuracy: 0.6944 - val_loss: 0.6151 - val_accuracy: 0.7111 - 62ms/epoch - 7ms/step\n",
      "Epoch 16/150\n",
      "9/9 - 0s - loss: 0.5705 - accuracy: 0.6972 - val_loss: 0.6156 - val_accuracy: 0.7111 - 61ms/epoch - 7ms/step\n"
     ]
    },
    {
     "data": {
      "text/plain": [
       "<keras.callbacks.History at 0x1d3529a69d0>"
      ]
     },
     "execution_count": 3,
     "metadata": {},
     "output_type": "execute_result"
    }
   ],
   "source": [
    "input_size = 10\n",
    "output_size = 2\n",
    "hidden_layer_size = 80\n",
    "batch_size = 40\n",
    "max_epochs = 150\n",
    "    \n",
    "model = tf.keras.Sequential([\n",
    "    tf.keras.layers.Dense(hidden_layer_size, activation='relu'), # 1st hidden layer\n",
    "    tf.keras.layers.Dense(hidden_layer_size, activation='relu'), # 2nd hidden layer\n",
    "    tf.keras.layers.Dense(output_size, activation='softmax') # output layer\n",
    "])\n",
    "\n",
    "model.compile(optimizer='adam', loss='sparse_categorical_crossentropy', metrics=['accuracy'])\n",
    "\n",
    "early_stopping = tf.keras.callbacks.EarlyStopping(patience=2)\n",
    "\n",
    "model.fit(train_inputs,\n",
    "          train_targets, \n",
    "          batch_size=batch_size,\n",
    "          epochs=max_epochs, \n",
    "          callbacks=[early_stopping], \n",
    "          validation_data=(validation_inputs, validation_targets), \n",
    "          verbose=2\n",
    ")"
   ]
  },
  {
   "cell_type": "code",
   "execution_count": 4,
   "id": "34cf65df",
   "metadata": {},
   "outputs": [
    {
     "name": "stdout",
     "output_type": "stream",
     "text": [
      "Epoch 1/150\n",
      "9/9 - 0s - loss: 0.5703 - accuracy: 0.6944 - val_loss: 0.6079 - val_accuracy: 0.7111 - 128ms/epoch - 14ms/step\n",
      "Epoch 2/150\n",
      "9/9 - 0s - loss: 0.5673 - accuracy: 0.6944 - val_loss: 0.6036 - val_accuracy: 0.7111 - 54ms/epoch - 6ms/step\n",
      "Epoch 3/150\n",
      "9/9 - 0s - loss: 0.5681 - accuracy: 0.6972 - val_loss: 0.6026 - val_accuracy: 0.7111 - 58ms/epoch - 6ms/step\n",
      "Epoch 4/150\n",
      "9/9 - 0s - loss: 0.5657 - accuracy: 0.7028 - val_loss: 0.5972 - val_accuracy: 0.7111 - 56ms/epoch - 6ms/step\n",
      "Epoch 5/150\n",
      "9/9 - 0s - loss: 0.5650 - accuracy: 0.6972 - val_loss: 0.6032 - val_accuracy: 0.7111 - 56ms/epoch - 6ms/step\n",
      "Epoch 6/150\n",
      "9/9 - 0s - loss: 0.5617 - accuracy: 0.7083 - val_loss: 0.5916 - val_accuracy: 0.6889 - 54ms/epoch - 6ms/step\n",
      "Epoch 7/150\n",
      "9/9 - 0s - loss: 0.5611 - accuracy: 0.7000 - val_loss: 0.5947 - val_accuracy: 0.7111 - 54ms/epoch - 6ms/step\n",
      "Epoch 8/150\n",
      "9/9 - 0s - loss: 0.5572 - accuracy: 0.7028 - val_loss: 0.5880 - val_accuracy: 0.7333 - 55ms/epoch - 6ms/step\n",
      "Epoch 9/150\n",
      "9/9 - 0s - loss: 0.5567 - accuracy: 0.6944 - val_loss: 0.5870 - val_accuracy: 0.7111 - 55ms/epoch - 6ms/step\n",
      "Epoch 10/150\n",
      "9/9 - 0s - loss: 0.5561 - accuracy: 0.7056 - val_loss: 0.5855 - val_accuracy: 0.7111 - 53ms/epoch - 6ms/step\n",
      "Epoch 11/150\n",
      "9/9 - 0s - loss: 0.5528 - accuracy: 0.7056 - val_loss: 0.5791 - val_accuracy: 0.7333 - 46ms/epoch - 5ms/step\n",
      "Epoch 12/150\n",
      "9/9 - 0s - loss: 0.5521 - accuracy: 0.7056 - val_loss: 0.5747 - val_accuracy: 0.7333 - 66ms/epoch - 7ms/step\n",
      "Epoch 13/150\n",
      "9/9 - 0s - loss: 0.5526 - accuracy: 0.6972 - val_loss: 0.5786 - val_accuracy: 0.7111 - 58ms/epoch - 6ms/step\n",
      "Epoch 14/150\n",
      "9/9 - 0s - loss: 0.5497 - accuracy: 0.6972 - val_loss: 0.5712 - val_accuracy: 0.7111 - 74ms/epoch - 8ms/step\n",
      "Epoch 15/150\n",
      "9/9 - 0s - loss: 0.5514 - accuracy: 0.7000 - val_loss: 0.5740 - val_accuracy: 0.7111 - 67ms/epoch - 7ms/step\n",
      "Epoch 16/150\n",
      "9/9 - 0s - loss: 0.5466 - accuracy: 0.7056 - val_loss: 0.5681 - val_accuracy: 0.7333 - 67ms/epoch - 7ms/step\n",
      "Epoch 17/150\n",
      "9/9 - 0s - loss: 0.5470 - accuracy: 0.7056 - val_loss: 0.5653 - val_accuracy: 0.7111 - 67ms/epoch - 7ms/step\n",
      "Epoch 18/150\n",
      "9/9 - 0s - loss: 0.5466 - accuracy: 0.7056 - val_loss: 0.5645 - val_accuracy: 0.7111 - 71ms/epoch - 8ms/step\n",
      "Epoch 19/150\n",
      "9/9 - 0s - loss: 0.5448 - accuracy: 0.7000 - val_loss: 0.5631 - val_accuracy: 0.7333 - 59ms/epoch - 7ms/step\n",
      "Epoch 20/150\n",
      "9/9 - 0s - loss: 0.5448 - accuracy: 0.7028 - val_loss: 0.5679 - val_accuracy: 0.7111 - 54ms/epoch - 6ms/step\n",
      "Epoch 21/150\n",
      "9/9 - 0s - loss: 0.5424 - accuracy: 0.7000 - val_loss: 0.5544 - val_accuracy: 0.7556 - 57ms/epoch - 6ms/step\n",
      "Epoch 22/150\n",
      "9/9 - 0s - loss: 0.5411 - accuracy: 0.7111 - val_loss: 0.5536 - val_accuracy: 0.7556 - 55ms/epoch - 6ms/step\n",
      "Epoch 23/150\n",
      "9/9 - 0s - loss: 0.5392 - accuracy: 0.7111 - val_loss: 0.5594 - val_accuracy: 0.7333 - 52ms/epoch - 6ms/step\n",
      "Epoch 24/150\n",
      "9/9 - 0s - loss: 0.5401 - accuracy: 0.7083 - val_loss: 0.5545 - val_accuracy: 0.7333 - 47ms/epoch - 5ms/step\n"
     ]
    }
   ],
   "source": [
    "history = model.fit(train_inputs,\n",
    "          train_targets, \n",
    "          batch_size=batch_size,\n",
    "          epochs=max_epochs, \n",
    "          callbacks=[early_stopping], \n",
    "          validation_data=(validation_inputs, validation_targets), \n",
    "          verbose=2\n",
    ")"
   ]
  },
  {
   "cell_type": "markdown",
   "id": "264fa060",
   "metadata": {},
   "source": [
    "# Printing Important Results"
   ]
  },
  {
   "cell_type": "code",
   "execution_count": 5,
   "id": "041d3016",
   "metadata": {},
   "outputs": [],
   "source": [
    "final_train_loss = history.history['loss'][0]\n",
    "final_train_accuracy = history.history['accuracy'][0]"
   ]
  },
  {
   "cell_type": "code",
   "execution_count": 6,
   "id": "d9c6fc8f",
   "metadata": {},
   "outputs": [],
   "source": [
    "final_val_loss = history.history['val_loss'][0]\n",
    "final_val_accuracy = history.history['val_accuracy'][0]"
   ]
  },
  {
   "cell_type": "code",
   "execution_count": 7,
   "id": "fa94ed30",
   "metadata": {},
   "outputs": [
    {
     "name": "stdout",
     "output_type": "stream",
     "text": [
      "2/2 [==============================] - 0s 4ms/step - loss: 0.5545 - accuracy: 0.7333\n"
     ]
    }
   ],
   "source": [
    "test_loss, test_accuracy = model.evaluate(test_inputs,test_targets)"
   ]
  },
  {
   "cell_type": "code",
   "execution_count": 8,
   "id": "e9e00e54",
   "metadata": {},
   "outputs": [
    {
     "name": "stdout",
     "output_type": "stream",
     "text": [
      "\n",
      "Train loss: 0.57. Train accuracy: 69.44%\n",
      "\n",
      "Validation loss: 0.61. Validation accuracy: 71.11%\n",
      "\n",
      "Test loss: 0.55. Test accuracy: 73.33%\n"
     ]
    }
   ],
   "source": [
    "print('\\nTrain loss: {0:.2f}. Train accuracy: {1:.2f}%'.format(final_train_loss, final_train_accuracy*100.))\n",
    "print('\\nValidation loss: {0:.2f}. Validation accuracy: {1:.2f}%'.format(final_val_loss, final_val_accuracy*100.))\n",
    "print('\\nTest loss: {0:.2f}. Test accuracy: {1:.2f}%'.format(test_loss, test_accuracy*100.))"
   ]
  },
  {
   "cell_type": "markdown",
   "id": "f7e58cf7",
   "metadata": {},
   "source": [
    "# Finding Classification Matrix"
   ]
  },
  {
   "cell_type": "code",
   "execution_count": 9,
   "id": "5d7acdc6",
   "metadata": {},
   "outputs": [],
   "source": [
    "from sklearn.metrics import classification_report, confusion_matrix"
   ]
  },
  {
   "cell_type": "code",
   "execution_count": 10,
   "id": "12223324",
   "metadata": {},
   "outputs": [
    {
     "name": "stdout",
     "output_type": "stream",
     "text": [
      "2/2 [==============================] - 0s 5ms/step\n"
     ]
    }
   ],
   "source": [
    "pred = model.predict(test_inputs)"
   ]
  },
  {
   "cell_type": "code",
   "execution_count": 11,
   "id": "238164ca",
   "metadata": {},
   "outputs": [],
   "source": [
    "pred_classes = np.argmax(pred, axis=1)"
   ]
  },
  {
   "cell_type": "code",
   "execution_count": 13,
   "id": "2a1c8a13",
   "metadata": {},
   "outputs": [
    {
     "data": {
      "text/plain": [
       "array([[23,  2],\n",
       "       [10, 10]], dtype=int64)"
      ]
     },
     "execution_count": 13,
     "metadata": {},
     "output_type": "execute_result"
    }
   ],
   "source": [
    "confusion_mtx = confusion_matrix(test_targets,pred_classes)\n",
    "confusion_mtx"
   ]
  },
  {
   "cell_type": "code",
   "execution_count": 14,
   "id": "9028e16b",
   "metadata": {},
   "outputs": [
    {
     "name": "stdout",
     "output_type": "stream",
     "text": [
      "              precision    recall  f1-score   support\n",
      "\n",
      "           0       0.70      0.92      0.79        25\n",
      "           1       0.83      0.50      0.62        20\n",
      "\n",
      "    accuracy                           0.73        45\n",
      "   macro avg       0.77      0.71      0.71        45\n",
      "weighted avg       0.76      0.73      0.72        45\n",
      "\n"
     ]
    }
   ],
   "source": [
    "report = classification_report(test_targets, pred_classes)\n",
    "print(report)"
   ]
  },
  {
   "cell_type": "code",
   "execution_count": null,
   "id": "ceed30a3",
   "metadata": {},
   "outputs": [],
   "source": []
  }
 ],
 "metadata": {
  "kernelspec": {
   "display_name": "Python 3 (ipykernel)",
   "language": "python",
   "name": "python3"
  },
  "language_info": {
   "codemirror_mode": {
    "name": "ipython",
    "version": 3
   },
   "file_extension": ".py",
   "mimetype": "text/x-python",
   "name": "python",
   "nbconvert_exporter": "python",
   "pygments_lexer": "ipython3",
   "version": "3.8.17"
  }
 },
 "nbformat": 4,
 "nbformat_minor": 5
}
